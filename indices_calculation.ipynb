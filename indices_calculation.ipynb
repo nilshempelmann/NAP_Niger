{
 "cells": [
  {
   "cell_type": "code",
   "execution_count": 7,
   "metadata": {},
   "outputs": [],
   "source": [
    "# birdy client for communication with the server:\n",
    "from birdy import WPSClient\n",
    "# import birdy \n",
    "\n",
    "# handling files and folders\n",
    "from os import path, listdir\n",
    "from urllib import request\n",
    "import time\n",
    "\n",
    "# to display external png graphics in notebook: \n",
    "from IPython.display import Image\n",
    "from IPython.core.display import HTML "
   ]
  },
  {
   "cell_type": "code",
   "execution_count": 6,
   "metadata": {},
   "outputs": [],
   "source": [
    "# on serverside :\n",
    "# conda activate finch \n",
    "# finch start -c etc/custom.cfg \n",
    "\n",
    "fp_server = 'http://localhost:8093/wps'    # flyingpigeon\n",
    "fp_i = WPSClient(fp_server, progress=True)\n",
    "fp = WPSClient(fp_server)\n",
    "\n",
    "finch_server = 'http://localhost:8092/wps'   # finch \n",
    "finch_i = WPSClient(url=finch_server, progress=True)\n",
    "finch = WPSClient(finch_server)"
   ]
  },
  {
   "cell_type": "code",
   "execution_count": 15,
   "metadata": {},
   "outputs": [
    {
     "name": "stdout",
     "output_type": "stream",
     "text": [
      "8 9\n"
     ]
    }
   ],
   "source": [
    "# pr and tas files of bbox over Niger had been prepared\n",
    "# how to prepare country subsets are explained here:\n",
    "# https://github.com/nilshempelmann/NAP_Niger/blob/master/subset_polygon.ipynb\n",
    "#\n",
    "# Furthermore, biasadjustment had been performed: \n",
    "# https://github.com/nilshempelmann/NAP_Niger/blob/master/bias_adjustment.R\n",
    "\n",
    "# read in the existing bias_adjusted tas files:\n",
    "tas_path = '/home/nils/nap_niger/data/adjust/'\n",
    "tas_files = [ tas_path+f for f in listdir(tas_path) if 'tasAdjust' in f]\n",
    "tas_files.sort()\n",
    "\n",
    "# read in the existing pr files (!!! not bias adjusted, so far !!!):\n",
    "pr_path = '/home/nils/nap_niger/data/bbox/'\n",
    "# lists all files stored in 'path'\n",
    "pr_files = [ pr_path+f for f in listdir(pr_path) if 'pr_' in f]\n",
    "pr_files.sort()\n",
    "\n",
    "print(len(tas_files), len(pr_files) )\n"
   ]
  },
  {
   "cell_type": "code",
   "execution_count": 71,
   "metadata": {},
   "outputs": [
    {
     "data": {
      "application/vnd.jupyter.widget-view+json": {
       "model_id": "9300b511b7f542598cd18d4b9803024c",
       "version_major": 2,
       "version_minor": 0
      },
      "text/plain": [
       "HBox(children=(IntProgress(value=0, bar_style='info', description='Processing:'), Button(button_style='danger'…"
      ]
     },
     "metadata": {},
     "output_type": "display_data"
    }
   ],
   "source": [
    "# Quick check of tas datasets ensemble in a plot:\n",
    "out = fp_i.plot_spaghetti(tas_files)"
   ]
  },
  {
   "cell_type": "code",
   "execution_count": 72,
   "metadata": {},
   "outputs": [
    {
     "data": {
      "text/html": [
       "<img src=\"http://127.0.0.1:8093/outputs/34479b34-4a83-11ea-8fe0-9cb6d08a53e7/tmpcvo8c6x7.png\"/>"
      ],
      "text/plain": [
       "<IPython.core.display.Image object>"
      ]
     },
     "execution_count": 72,
     "metadata": {},
     "output_type": "execute_result"
    }
   ],
   "source": [
    "Image(url= out.get()[0])"
   ]
  },
  {
   "cell_type": "code",
   "execution_count": 67,
   "metadata": {},
   "outputs": [],
   "source": [
    "# prepare imput parameter \n",
    "\n",
    "pr_indices_path = path.join(pr_path,'indices/')\n",
    "tas_indices_path = path.join(tas_path,'indices/')\n",
    "# frequencies\n",
    "freq=['YS','MS']\n",
    "\n",
    "# precipitation indices\n",
    "pr_insdices = ['prcptot','rx1day','wetdays','cdd','cwd','sdii','max_n_day_precipitation_amount']\n",
    "tas_indices = ['tg_mean']"
   ]
  },
  {
   "cell_type": "markdown",
   "metadata": {},
   "source": [
    "## Claculation of indices:\n",
    "manipulate the next code box and set the approriate indices with according input files and output information\n"
   ]
  },
  {
   "cell_type": "code",
   "execution_count": 48,
   "metadata": {},
   "outputs": [
    {
     "data": {
      "application/vnd.jupyter.widget-view+json": {
       "model_id": "8739f1508e214189b6aafbb259b89638",
       "version_major": 2,
       "version_minor": 0
      },
      "text/plain": [
       "HBox(children=(IntProgress(value=0, bar_style='info', description='Processing:'), Button(button_style='danger'…"
      ]
     },
     "metadata": {},
     "output_type": "display_data"
    },
    {
     "name": "stdout",
     "output_type": "stream",
     "text": [
      "Done for max_5_day_precipitation_amount_AFR-22_MOHC-HadGEM2-ES_historical_r1i1p1_CLMcom-KIT-CCLM5-0-15_v1_mon_19500101-20051230.nc\n"
     ]
    },
    {
     "data": {
      "application/vnd.jupyter.widget-view+json": {
       "model_id": "9b0c3c8fa9e545efb76ad62484bca262",
       "version_major": 2,
       "version_minor": 0
      },
      "text/plain": [
       "HBox(children=(IntProgress(value=0, bar_style='info', description='Processing:'), Button(button_style='danger'…"
      ]
     },
     "metadata": {},
     "output_type": "display_data"
    },
    {
     "name": "stdout",
     "output_type": "stream",
     "text": [
      "Done for max_5_day_precipitation_amount_AFR-22_MOHC-HadGEM2-ES_historical_r1i1p1_GERICS-REMO2015_v1_mon_19700101-20051230.nc\n"
     ]
    },
    {
     "data": {
      "application/vnd.jupyter.widget-view+json": {
       "model_id": "e7612d9935284b9691d4ad47d26bd2e1",
       "version_major": 2,
       "version_minor": 0
      },
      "text/plain": [
       "HBox(children=(IntProgress(value=0, bar_style='info', description='Processing:'), Button(button_style='danger'…"
      ]
     },
     "metadata": {},
     "output_type": "display_data"
    },
    {
     "name": "stdout",
     "output_type": "stream",
     "text": [
      "Done for max_5_day_precipitation_amount_AFR-22_MOHC-HadGEM2-ES_rcp26_r1i1p1_CLMcom-KIT-CCLM5-0-15_v1_mon_20060101-20981230.nc\n"
     ]
    },
    {
     "data": {
      "application/vnd.jupyter.widget-view+json": {
       "model_id": "02ae2109822940a4a2da5689c7ff3dc8",
       "version_major": 2,
       "version_minor": 0
      },
      "text/plain": [
       "HBox(children=(IntProgress(value=0, bar_style='info', description='Processing:'), Button(button_style='danger'…"
      ]
     },
     "metadata": {},
     "output_type": "display_data"
    },
    {
     "name": "stdout",
     "output_type": "stream",
     "text": [
      "Done for max_5_day_precipitation_amount_AFR-22_MOHC-HadGEM2-ES_rcp26_r1i1p1_GERICS-REMO2015_v1_mon_20060101-20991230.nc\n"
     ]
    },
    {
     "data": {
      "application/vnd.jupyter.widget-view+json": {
       "model_id": "b393681109a349d1a603886d6d735f52",
       "version_major": 2,
       "version_minor": 0
      },
      "text/plain": [
       "HBox(children=(IntProgress(value=0, bar_style='info', description='Processing:'), Button(button_style='danger'…"
      ]
     },
     "metadata": {},
     "output_type": "display_data"
    },
    {
     "name": "stdout",
     "output_type": "stream",
     "text": [
      "Done for max_5_day_precipitation_amount_AFR-22_MOHC-HadGEM2-ES_rcp85_r1i1p1_CLMcom-KIT-CCLM5-0-15_v1_mon_20060101-20991230.nc\n"
     ]
    },
    {
     "data": {
      "application/vnd.jupyter.widget-view+json": {
       "model_id": "60f616c0a4d84d9994f9e16f1cb88020",
       "version_major": 2,
       "version_minor": 0
      },
      "text/plain": [
       "HBox(children=(IntProgress(value=0, bar_style='info', description='Processing:'), Button(button_style='danger'…"
      ]
     },
     "metadata": {},
     "output_type": "display_data"
    },
    {
     "name": "stdout",
     "output_type": "stream",
     "text": [
      "Done for max_5_day_precipitation_amount_AFR-22_MOHC-HadGEM2-ES_rcp85_r1i1p1_GERICS-REMO2015_v1_mon_20060101-20701230.nc\n"
     ]
    },
    {
     "data": {
      "application/vnd.jupyter.widget-view+json": {
       "model_id": "c99cdd0cfe1f4e468d34b37b2f5f58d0",
       "version_major": 2,
       "version_minor": 0
      },
      "text/plain": [
       "HBox(children=(IntProgress(value=0, bar_style='info', description='Processing:'), Button(button_style='danger'…"
      ]
     },
     "metadata": {},
     "output_type": "display_data"
    },
    {
     "name": "stdout",
     "output_type": "stream",
     "text": [
      "Done for max_5_day_precipitation_amount_AFR-22_MPI-M-MPI-ESM-LR_historical_r1i1p1_CLMcom-KIT-CCLM5-0-15_v1_mon_19500101-20051231.nc\n"
     ]
    },
    {
     "data": {
      "application/vnd.jupyter.widget-view+json": {
       "model_id": "1f7d2df89c664f8084dcbd9207a63aeb",
       "version_major": 2,
       "version_minor": 0
      },
      "text/plain": [
       "HBox(children=(IntProgress(value=0, bar_style='info', description='Processing:'), Button(button_style='danger'…"
      ]
     },
     "metadata": {},
     "output_type": "display_data"
    },
    {
     "name": "stdout",
     "output_type": "stream",
     "text": [
      "Done for max_5_day_precipitation_amount_AFR-22_MPI-M-MPI-ESM-LR_rcp26_r1i1p1_CLMcom-KIT-CCLM5-0-15_v1_mon_20060101-21001231.nc\n"
     ]
    },
    {
     "data": {
      "application/vnd.jupyter.widget-view+json": {
       "model_id": "250542979d7e4913b0067c0b8ff88111",
       "version_major": 2,
       "version_minor": 0
      },
      "text/plain": [
       "HBox(children=(IntProgress(value=0, bar_style='info', description='Processing:'), Button(button_style='danger'…"
      ]
     },
     "metadata": {},
     "output_type": "display_data"
    },
    {
     "name": "stdout",
     "output_type": "stream",
     "text": [
      "Done for max_5_day_precipitation_amount_AFR-22_NCC-NorESM1-M_historical_r1i1p1_CLMcom-KIT-CCLM5-0-15_v1_mon_19500101-20051231.nc\n",
      "**** Done *****\n"
     ]
    }
   ],
   "source": [
    "# bug in finch! Finch calculates only one file even when providing multiple files\n",
    "# https://github.com/bird-house/finch/issues/72\n",
    "#\n",
    "# Solution: loop over single files:\n",
    "\n",
    "indice_files = []\n",
    "\n",
    "for i, f  in enumerate(pr_files):\n",
    "#     # some indices requires pairs. To find corrsponding file:\n",
    "#     file2 = [t for t in tas_files if path.basename(f).strip('pr_') in t]\n",
    "#     if len(file2) == 1:\n",
    "    out = finch_i.max_n_day_precipitation_amount(pr=f, window=5, freq=freq[1]) #  tas=file2[0],\n",
    "    # wait until finch processed the file:\n",
    "    while out.getStatus() != 'ProcessSucceeded':\n",
    "        time.sleep(1)\n",
    "    filename = path.basename(f).replace('_day_', '_mon_').replace('pr_','max_5_day_precipitation_amount_')\n",
    "    url = out.get()[0]\n",
    "    indice_file, _ = request.urlretrieve(url, pr_indices_path+filename)\n",
    "    indice_files.append(indice_file)\n",
    "    print('Done for {}'.format(path.basename(indice_file)))\n",
    "#     else:\n",
    "#         print('no correspondent file for {} found'.format(path.basename(f)))\n",
    "        \n",
    "print('**** Done *****')        \n",
    "        \n",
    "# NOTES:\n",
    "# prcptot requires tas information, should be optional:\n",
    "# https://github.com/bird-house/finch/issues/71"
   ]
  },
  {
   "cell_type": "code",
   "execution_count": 47,
   "metadata": {},
   "outputs": [
    {
     "data": {
      "application/vnd.jupyter.widget-view+json": {
       "model_id": "28b6e2fba198460db9187f239df4225e",
       "version_major": 2,
       "version_minor": 0
      },
      "text/plain": [
       "HBox(children=(IntProgress(value=0, bar_style='info', description='Processing:'), Button(button_style='danger'…"
      ]
     },
     "metadata": {},
     "output_type": "display_data"
    },
    {
     "data": {
      "text/html": [
       "<img src=\"http://127.0.0.1:8093/outputs/6f1521b2-4a6c-11ea-98bc-9cb6d08a53e7/tmprb1qg9_i.png\"/>"
      ],
      "text/plain": [
       "<IPython.core.display.Image object>"
      ]
     },
     "execution_count": 47,
     "metadata": {},
     "output_type": "execute_result"
    }
   ],
   "source": [
    "# Quick check of pr data in a plot:\n",
    "out = fp_i.plot_spaghetti(indice_files)\n",
    "while out.getStatus() != 'ProcessSucceeded':\n",
    "    time.sleep(1)\n",
    "Image(url= out.get()[0])"
   ]
  },
  {
   "cell_type": "code",
   "execution_count": 68,
   "metadata": {},
   "outputs": [
    {
     "data": {
      "text/plain": [
       "16"
      ]
     },
     "execution_count": 68,
     "metadata": {},
     "output_type": "execute_result"
    }
   ],
   "source": [
    "# subset polygon for the country  # tas_indices_path\n",
    "indice_files = [path.join(tas_indices_path,f) for f in listdir(tas_indices_path)]\n",
    "len(indice_files)"
   ]
  },
  {
   "cell_type": "code",
   "execution_count": 69,
   "metadata": {},
   "outputs": [
    {
     "data": {
      "application/vnd.jupyter.widget-view+json": {
       "model_id": "e8fb01d557054eceb194b6bd7ebe457c",
       "version_major": 2,
       "version_minor": 0
      },
      "text/plain": [
       "HBox(children=(IntProgress(value=0, bar_style='info', description='Processing:'), Button(button_style='danger'…"
      ]
     },
     "metadata": {},
     "output_type": "display_data"
    },
    {
     "data": {
      "application/vnd.jupyter.widget-view+json": {
       "model_id": "fe0c052e7344405d94cbc32d848e76be",
       "version_major": 2,
       "version_minor": 0
      },
      "text/plain": [
       "HBox(children=(IntProgress(value=0, bar_style='info', description='Processing:'), Button(button_style='danger'…"
      ]
     },
     "metadata": {},
     "output_type": "display_data"
    },
    {
     "data": {
      "application/vnd.jupyter.widget-view+json": {
       "model_id": "456b0be5ce0844e6b2c06e83b64fd16b",
       "version_major": 2,
       "version_minor": 0
      },
      "text/plain": [
       "HBox(children=(IntProgress(value=0, bar_style='info', description='Processing:'), Button(button_style='danger'…"
      ]
     },
     "metadata": {},
     "output_type": "display_data"
    },
    {
     "data": {
      "application/vnd.jupyter.widget-view+json": {
       "model_id": "8264400de6f04aba8cfa776e34167060",
       "version_major": 2,
       "version_minor": 0
      },
      "text/plain": [
       "HBox(children=(IntProgress(value=0, bar_style='info', description='Processing:'), Button(button_style='danger'…"
      ]
     },
     "metadata": {},
     "output_type": "display_data"
    },
    {
     "data": {
      "application/vnd.jupyter.widget-view+json": {
       "model_id": "14d34f97033643b492ef3924b2f7a951",
       "version_major": 2,
       "version_minor": 0
      },
      "text/plain": [
       "HBox(children=(IntProgress(value=0, bar_style='info', description='Processing:'), Button(button_style='danger'…"
      ]
     },
     "metadata": {},
     "output_type": "display_data"
    },
    {
     "data": {
      "application/vnd.jupyter.widget-view+json": {
       "model_id": "42ca7ba7a76f4d8f974c42081075bbeb",
       "version_major": 2,
       "version_minor": 0
      },
      "text/plain": [
       "HBox(children=(IntProgress(value=0, bar_style='info', description='Processing:'), Button(button_style='danger'…"
      ]
     },
     "metadata": {},
     "output_type": "display_data"
    },
    {
     "data": {
      "application/vnd.jupyter.widget-view+json": {
       "model_id": "8e29d5b2199e42f0b58ea943cdc47c4f",
       "version_major": 2,
       "version_minor": 0
      },
      "text/plain": [
       "HBox(children=(IntProgress(value=0, bar_style='info', description='Processing:'), Button(button_style='danger'…"
      ]
     },
     "metadata": {},
     "output_type": "display_data"
    },
    {
     "data": {
      "application/vnd.jupyter.widget-view+json": {
       "model_id": "ef342c69b2a449fea5ee2c598712b638",
       "version_major": 2,
       "version_minor": 0
      },
      "text/plain": [
       "HBox(children=(IntProgress(value=0, bar_style='info', description='Processing:'), Button(button_style='danger'…"
      ]
     },
     "metadata": {},
     "output_type": "display_data"
    },
    {
     "data": {
      "application/vnd.jupyter.widget-view+json": {
       "model_id": "614f944e362f41588853539b94dc086a",
       "version_major": 2,
       "version_minor": 0
      },
      "text/plain": [
       "HBox(children=(IntProgress(value=0, bar_style='info', description='Processing:'), Button(button_style='danger'…"
      ]
     },
     "metadata": {},
     "output_type": "display_data"
    },
    {
     "data": {
      "application/vnd.jupyter.widget-view+json": {
       "model_id": "2b1170896272483d95fde91c44c357ff",
       "version_major": 2,
       "version_minor": 0
      },
      "text/plain": [
       "HBox(children=(IntProgress(value=0, bar_style='info', description='Processing:'), Button(button_style='danger'…"
      ]
     },
     "metadata": {},
     "output_type": "display_data"
    },
    {
     "data": {
      "application/vnd.jupyter.widget-view+json": {
       "model_id": "d9311b1707de4f3980862b136cb5bfa6",
       "version_major": 2,
       "version_minor": 0
      },
      "text/plain": [
       "HBox(children=(IntProgress(value=0, bar_style='info', description='Processing:'), Button(button_style='danger'…"
      ]
     },
     "metadata": {},
     "output_type": "display_data"
    },
    {
     "data": {
      "application/vnd.jupyter.widget-view+json": {
       "model_id": "db08ab8be98c42779e351111ec23c1b8",
       "version_major": 2,
       "version_minor": 0
      },
      "text/plain": [
       "HBox(children=(IntProgress(value=0, bar_style='info', description='Processing:'), Button(button_style='danger'…"
      ]
     },
     "metadata": {},
     "output_type": "display_data"
    },
    {
     "data": {
      "application/vnd.jupyter.widget-view+json": {
       "model_id": "183f7410e9ad4f76a00b1faa3511fa77",
       "version_major": 2,
       "version_minor": 0
      },
      "text/plain": [
       "HBox(children=(IntProgress(value=0, bar_style='info', description='Processing:'), Button(button_style='danger'…"
      ]
     },
     "metadata": {},
     "output_type": "display_data"
    },
    {
     "data": {
      "application/vnd.jupyter.widget-view+json": {
       "model_id": "fb16e188d8c145b8820e0aab3e7d8df6",
       "version_major": 2,
       "version_minor": 0
      },
      "text/plain": [
       "HBox(children=(IntProgress(value=0, bar_style='info', description='Processing:'), Button(button_style='danger'…"
      ]
     },
     "metadata": {},
     "output_type": "display_data"
    },
    {
     "data": {
      "application/vnd.jupyter.widget-view+json": {
       "model_id": "2be1ee7f01824a3a91b8ca7fec620b3e",
       "version_major": 2,
       "version_minor": 0
      },
      "text/plain": [
       "HBox(children=(IntProgress(value=0, bar_style='info', description='Processing:'), Button(button_style='danger'…"
      ]
     },
     "metadata": {},
     "output_type": "display_data"
    },
    {
     "data": {
      "application/vnd.jupyter.widget-view+json": {
       "model_id": "dacdb05a9ed54c3289cf467d3e72c61c",
       "version_major": 2,
       "version_minor": 0
      },
      "text/plain": [
       "HBox(children=(IntProgress(value=0, bar_style='info', description='Processing:'), Button(button_style='danger'…"
      ]
     },
     "metadata": {},
     "output_type": "display_data"
    }
   ],
   "source": [
    "# enhancent in flyingpigeon: can't handle multiple files \n",
    "# https://github.com/bird-house/flyingpigeon/issues/273\n",
    "\n",
    "for f in indice_files: \n",
    "    out = fp_i.subset_countries(resource=f, region='NER')\n",
    "    while out.getStatus() != 'ProcessSucceeded':\n",
    "        time.sleep(1) # wait until the widget is 'Complete'\n",
    "    url = out.get()[1]\n",
    "    fn = path.basename(url)\n",
    "    indice_file, _ = request.urlretrieve(url, path.join(tas_indices_path,fn))"
   ]
  },
  {
   "cell_type": "code",
   "execution_count": 70,
   "metadata": {},
   "outputs": [
    {
     "data": {
      "text/html": [
       "<img src=\"http://127.0.0.1:8093/outputs/02e7b43e-4a83-11ea-878a-9cb6d08a53e7/tmpgqah7v5v.png\"/>"
      ],
      "text/plain": [
       "<IPython.core.display.Image object>"
      ]
     },
     "execution_count": 70,
     "metadata": {},
     "output_type": "execute_result"
    }
   ],
   "source": [
    "out = fp.plot_map(resource=indice_files[0])\n",
    "Image(url= out.get()[0])"
   ]
  },
  {
   "cell_type": "code",
   "execution_count": null,
   "metadata": {},
   "outputs": [],
   "source": []
  }
 ],
 "metadata": {
  "kernelspec": {
   "display_name": "Python 3",
   "language": "python",
   "name": "python3"
  },
  "language_info": {
   "codemirror_mode": {
    "name": "ipython",
    "version": 3
   },
   "file_extension": ".py",
   "mimetype": "text/x-python",
   "name": "python",
   "nbconvert_exporter": "python",
   "pygments_lexer": "ipython3",
   "version": "3.7.4"
  }
 },
 "nbformat": 4,
 "nbformat_minor": 2
}

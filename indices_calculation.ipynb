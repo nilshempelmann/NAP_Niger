{
 "cells": [
  {
   "cell_type": "code",
   "execution_count": 1,
   "metadata": {},
   "outputs": [],
   "source": [
    "# birdy client for communication with the server:\n",
    "from birdy import WPSClient\n",
    "# import birdy \n",
    "\n",
    "# handling files and folders\n",
    "from os import path, listdir\n",
    "from urllib import request\n",
    "import time\n",
    "\n",
    "# to display external png graphics in notebook: \n",
    "from IPython.display import Image\n",
    "from IPython.core.display import HTML "
   ]
  },
  {
   "cell_type": "code",
   "execution_count": 2,
   "metadata": {},
   "outputs": [],
   "source": [
    "# on serverside :\n",
    "# conda activate finch \n",
    "# finch start -c etc/custom.cfg \n",
    "\n",
    "fp_server = 'http://localhost:8093/wps'    # flyingpigeon\n",
    "fp_i = WPSClient(fp_server, progress=True)\n",
    "fp = WPSClient(fp_server)\n",
    "\n",
    "finch_server = 'http://localhost:8092/wps'   # finch \n",
    "finch_i = WPSClient(url=finch_server, progress=True)\n",
    "finch = WPSClient(finch_server)"
   ]
  },
  {
   "cell_type": "code",
   "execution_count": 3,
   "metadata": {},
   "outputs": [
    {
     "name": "stdout",
     "output_type": "stream",
     "text": [
      "24 24\n"
     ]
    }
   ],
   "source": [
    "# pr and tas files of bbox over Niger had been prepared\n",
    "# how to prepare country subsets are explained here:\n",
    "# https://github.com/nilshempelmann/NAP_Niger/blob/master/subset_polygon.ipynb\n",
    "#\n",
    "# Furthermore, biasadjustment had been performed: \n",
    "# https://github.com/nilshempelmann/NAP_Niger/blob/master/bias_adjustment.R\n",
    "\n",
    "# read in the existing bias_adjusted tas files:\n",
    "tas_path = '/home/nils/nap_niger/data/adjust/'\n",
    "tas_files = [ tas_path+f for f in listdir(tas_path) if 'tasAdjust' in f]\n",
    "tas_files.sort()\n",
    "\n",
    "# read in the existing pr files (!!! not bias adjusted, so far !!!):\n",
    "pr_path = '/home/nils/nap_niger/data/bbox/'\n",
    "# lists all files stored in 'path'\n",
    "pr_files = [ pr_path+f for f in listdir(pr_path) if 'pr_' in f]\n",
    "pr_files.sort()\n",
    "\n",
    "print(len(tas_files), len(pr_files) )\n"
   ]
  },
  {
   "cell_type": "code",
   "execution_count": 4,
   "metadata": {},
   "outputs": [
    {
     "data": {
      "application/vnd.jupyter.widget-view+json": {
       "model_id": "9b05a15877d04436b5d740a51e8a191d",
       "version_major": 2,
       "version_minor": 0
      },
      "text/plain": [
       "HBox(children=(IntProgress(value=0, bar_style='info', description='Processing:'), Button(button_style='danger'…"
      ]
     },
     "metadata": {},
     "output_type": "display_data"
    }
   ],
   "source": [
    "# Quick check of tas datasets ensemble in a plot:\n",
    "out = fp_i.plot_spaghetti(tas_files)"
   ]
  },
  {
   "cell_type": "code",
   "execution_count": 5,
   "metadata": {},
   "outputs": [
    {
     "data": {
      "text/html": [
       "<img src=\"http://127.0.0.1:8093/outputs/be963b46-636b-11ea-ae80-9cb6d08a53e7/tmp1f6v6ijx.png\"/>"
      ],
      "text/plain": [
       "<IPython.core.display.Image object>"
      ]
     },
     "execution_count": 5,
     "metadata": {},
     "output_type": "execute_result"
    }
   ],
   "source": [
    "Image(url= out.get()[0])"
   ]
  },
  {
   "cell_type": "code",
   "execution_count": 4,
   "metadata": {},
   "outputs": [],
   "source": [
    "# prepare imput parameter \n",
    "\n",
    "pr_indices_path = path.join(pr_path,'indices/')\n",
    "tas_indices_path = path.join(tas_path,'indices/')\n",
    "# frequencies\n",
    "freq=['YS','MS']\n",
    "\n",
    "# precipitation indices\n",
    "pr_indices = ['prcptot','rx1day','wetdays','cdd','cwd','sdii','max_n_day_precipitation_amount']\n",
    "tas_indices = ['tg_mean']"
   ]
  },
  {
   "cell_type": "markdown",
   "metadata": {},
   "source": [
    "## Claculation of indices:\n",
    "manipulate the next code box and set the approriate indices with according input files and output information\n"
   ]
  },
  {
   "cell_type": "code",
   "execution_count": 8,
   "metadata": {},
   "outputs": [
    {
     "data": {
      "application/vnd.jupyter.widget-view+json": {
       "model_id": "3e41d429cc324744b263bfcd09ed4f63",
       "version_major": 2,
       "version_minor": 0
      },
      "text/plain": [
       "HBox(children=(IntProgress(value=0, bar_style='info', description='Processing:'), Button(button_style='danger'…"
      ]
     },
     "metadata": {},
     "output_type": "display_data"
    }
   ],
   "source": [
    "\n",
    "out = finch_i.prcptot(pr=pr_files, tas=tas_files, freq=freq[0]) #  tas=file2[0]\n",
    "        \n",
    "# NOTES:\n",
    "# prcptot requires tas information, should be optional:\n",
    "# https://github.com/bird-house/finch/issues/71"
   ]
  },
  {
   "cell_type": "code",
   "execution_count": 9,
   "metadata": {},
   "outputs": [
    {
     "name": "stdout",
     "output_type": "stream",
     "text": [
      "Metalink content-type detected.\n",
      "Downloading to /home/nils/nap_niger/data/bbox/indices/prcptot_AFR-22_MOHC-HadGEM2-ES_historical_r1i1p1_CLMcom-KIT-CCLM5-0-15_v1_day_19500101-20050101.nc.\n",
      "Downloading to /home/nils/nap_niger/data/bbox/indices/prcptot_AFR-22_MOHC-HadGEM2-ES_historical_r1i1p1_GERICS-REMO2015_v1_day_19700101-20050101.nc.\n",
      "Downloading to /home/nils/nap_niger/data/bbox/indices/prcptot_AFR-22_MOHC-HadGEM2-ES_rcp26_r1i1p1_CLMcom-KIT-CCLM5-0-15_v1_day_20060101-20980101.nc.\n",
      "Downloading to /home/nils/nap_niger/data/bbox/indices/prcptot_AFR-22_MOHC-HadGEM2-ES_rcp26_r1i1p1_GERICS-REMO2015_v1_day_20060101-20990101.nc.\n",
      "Downloading to /home/nils/nap_niger/data/bbox/indices/prcptot_AFR-22_MOHC-HadGEM2-ES_rcp85_r1i1p1_CLMcom-KIT-CCLM5-0-15_v1_day_20060101-20990101.nc.\n",
      "Downloading to /home/nils/nap_niger/data/bbox/indices/prcptot_AFR-22_MOHC-HadGEM2-ES_rcp85_r1i1p1_GERICS-REMO2015_v1_day_20060101-20990101.nc.\n",
      "Downloading to /home/nils/nap_niger/data/bbox/indices/prcptot_AFR-22_MPI-M-MPI-ESM-LR_historical_r1i1p1_CLMcom-KIT-CCLM5-0-15_v1_day_19500101-20050101.nc.\n",
      "Downloading to /home/nils/nap_niger/data/bbox/indices/prcptot_AFR-22_MPI-M-MPI-ESM-LR_historical_r1i1p1_GERICS-REMO2015_v1_day_19700101-20050101.nc.\n",
      "Downloading to /home/nils/nap_niger/data/bbox/indices/prcptot_AFR-22_MPI-M-MPI-ESM-LR_rcp26_r1i1p1_CLMcom-KIT-CCLM5-0-15_v1_day_20060101-21000101.nc.\n",
      "Downloading to /home/nils/nap_niger/data/bbox/indices/prcptot_AFR-22_MPI-M-MPI-ESM-LR_rcp26_r1i1p1_GERICS-REMO2015_v1_day_20060101-21000101.nc.\n",
      "Downloading to /home/nils/nap_niger/data/bbox/indices/prcptot_AFR-22_MPI-M-MPI-ESM-LR_rcp85_r1i1p1_CLMcom-KIT-CCLM5-0-15_v1_day_20060101-21000101.nc.\n",
      "Downloading to /home/nils/nap_niger/data/bbox/indices/prcptot_AFR-22_MPI-M-MPI-ESM-LR_rcp85_r1i1p1_GERICS-REMO2015_v1_day_20060101-21000101.nc.\n",
      "Downloading to /home/nils/nap_niger/data/bbox/indices/prcptot_AFR-22_MPI-M-MPI-ESM-MRMPI-M-MPI-ESM-MR_historical_r1i1p1_ICTP-RegCM4-7-0ICTP-RegCM4-7_v0_day_19700101-20050101.nc.\n",
      "Downloading to /home/nils/nap_niger/data/bbox/indices/prcptot_AFR-22_MPI-M-MPI-ESM-MRMPI-M-MPI-ESM-MR_rcp26_r1i1p1_ICTP-RegCM4-7-0ICTP-RegCM4-7_v0_day_20050101-20630101.nc.\n",
      "Downloading to /home/nils/nap_niger/data/bbox/indices/prcptot_AFR-22_MPI-M-MPI-ESM-MRMPI-M-MPI-ESM-MR_rcp85_r1i1p1_ICTP-RegCM4-7-0ICTP-RegCM4-7_v0_day_20050101-20730101.nc.\n",
      "Downloading to /home/nils/nap_niger/data/bbox/indices/prcptot_AFR-22_NCC-NorESM1-M_historical_r1i1p1_CLMcom-KIT-CCLM5-0-15_v1_day_19500101-20050101.nc.\n",
      "Downloading to /home/nils/nap_niger/data/bbox/indices/prcptot_AFR-22_NCC-NorESM1-M_historical_r1i1p1_GERICS-REMO2015_v1_day_19700101-20050101.nc.\n",
      "Downloading to /home/nils/nap_niger/data/bbox/indices/prcptot_AFR-22_NCC-NorESM1-MNCC-NorESM1-M_historical_r1i1p1_ICTP-RegCM4-7-0ICTP-RegCM4-7_v0_day_19700101-20050101.nc.\n",
      "Downloading to /home/nils/nap_niger/data/bbox/indices/prcptot_AFR-22_NCC-NorESM1-M_rcp26_r1i1p1_CLMcom-KIT-CCLM5-0-15_v1_day_20060101-21000101.nc.\n",
      "Downloading to /home/nils/nap_niger/data/bbox/indices/prcptot_AFR-22_NCC-NorESM1-M_rcp26_r1i1p1_GERICS-REMO2015_v1_day_20060101-21000101.nc.\n",
      "Downloading to /home/nils/nap_niger/data/bbox/indices/prcptot_AFR-22_NCC-NorESM1-MNCC-NorESM1-M_rcp26_r1i1p1_ICTP-RegCM4-7-0ICTP-RegCM4-7_v0_day_20050101-20990101.nc.\n",
      "Downloading to /home/nils/nap_niger/data/bbox/indices/prcptot_AFR-22_NCC-NorESM1-M_rcp85_r1i1p1_CLMcom-KIT-CCLM5-0-15_v1_day_20060101-21000101.nc.\n",
      "Downloading to /home/nils/nap_niger/data/bbox/indices/prcptot_AFR-22_NCC-NorESM1-M_rcp85_r1i1p1_GERICS-REMO2015_v1_day_20060101-21000101.nc.\n",
      "Downloading to /home/nils/nap_niger/data/bbox/indices/prcptot_AFR-22_NCC-NorESM1-MNCC-NorESM1-M_rcp85_r1i1p1_ICTP-RegCM4-7-0ICTP-RegCM4-7_v0_day_20050101-20990101.nc.\n"
     ]
    }
   ],
   "source": [
    "from metalink import download\n",
    "indice_files = download.get(out.get()[2], path=pr_indices_path, segmented=False)"
   ]
  },
  {
   "cell_type": "code",
   "execution_count": 11,
   "metadata": {},
   "outputs": [
    {
     "data": {
      "application/vnd.jupyter.widget-view+json": {
       "model_id": "6e53de1dd4a1457bb2ddbf5c21adda2e",
       "version_major": 2,
       "version_minor": 0
      },
      "text/plain": [
       "HBox(children=(IntProgress(value=0, bar_style='info', description='Processing:'), Button(button_style='danger'…"
      ]
     },
     "metadata": {},
     "output_type": "display_data"
    },
    {
     "data": {
      "text/html": [
       "<img src=\"http://127.0.0.1:8093/outputs/94cd8b64-6372-11ea-84ca-9cb6d08a53e7/tmp0jt_7orm.png\"/>"
      ],
      "text/plain": [
       "<IPython.core.display.Image object>"
      ]
     },
     "execution_count": 11,
     "metadata": {},
     "output_type": "execute_result"
    }
   ],
   "source": [
    "# Quick check of pr data in a plot:\n",
    "out = fp_i.plot_spaghetti(indice_files)\n",
    "while out.getStatus() != 'ProcessSucceeded':\n",
    "    time.sleep(1)\n",
    "Image(url= out.get()[0])"
   ]
  },
  {
   "cell_type": "code",
   "execution_count": 12,
   "metadata": {
    "scrolled": true
   },
   "outputs": [
    {
     "data": {
      "text/plain": [
       "['/home/nils/nap_niger/data/bbox/indices/prcptot_AFR-22_NCC-NorESM1-MNCC-NorESM1-M_rcp26_r1i1p1_ICTP-RegCM4-7-0ICTP-RegCM4-7_v0_day_20050101-20990101.nc',\n",
       " '/home/nils/nap_niger/data/bbox/indices/prcptot_AFR-22_MPI-M-MPI-ESM-LR_rcp26_r1i1p1_CLMcom-KIT-CCLM5-0-15_v1_day_20060101-21000101.nc',\n",
       " '/home/nils/nap_niger/data/bbox/indices/prcptot_AFR-22_MPI-M-MPI-ESM-LR_rcp26_r1i1p1_GERICS-REMO2015_v1_day_20060101-21000101.nc',\n",
       " '/home/nils/nap_niger/data/bbox/indices/prcptot_AFR-22_MPI-M-MPI-ESM-LR_historical_r1i1p1_GERICS-REMO2015_v1_day_19700101-20050101.nc',\n",
       " '/home/nils/nap_niger/data/bbox/indices/prcptot_AFR-22_MOHC-HadGEM2-ES_rcp26_r1i1p1_GERICS-REMO2015_v1_day_20060101-20990101.nc',\n",
       " '/home/nils/nap_niger/data/bbox/indices/prcptot_AFR-22_NCC-NorESM1-M_rcp85_r1i1p1_CLMcom-KIT-CCLM5-0-15_v1_day_20060101-21000101.nc',\n",
       " '/home/nils/nap_niger/data/bbox/indices/prcptot_AFR-22_NCC-NorESM1-M_historical_r1i1p1_CLMcom-KIT-CCLM5-0-15_v1_day_19500101-20050101.nc',\n",
       " '/home/nils/nap_niger/data/bbox/indices/prcptot_AFR-22_MOHC-HadGEM2-ES_historical_r1i1p1_CLMcom-KIT-CCLM5-0-15_v1_day_19500101-20050101.nc',\n",
       " '/home/nils/nap_niger/data/bbox/indices/prcptot_AFR-22_NCC-NorESM1-M_rcp85_r1i1p1_GERICS-REMO2015_v1_day_20060101-21000101.nc',\n",
       " '/home/nils/nap_niger/data/bbox/indices/prcptot_AFR-22_MPI-M-MPI-ESM-MRMPI-M-MPI-ESM-MR_rcp26_r1i1p1_ICTP-RegCM4-7-0ICTP-RegCM4-7_v0_day_20050101-20630101.nc',\n",
       " '/home/nils/nap_niger/data/bbox/indices/prcptot_AFR-22_MOHC-HadGEM2-ES_historical_r1i1p1_GERICS-REMO2015_v1_day_19700101-20050101.nc',\n",
       " '/home/nils/nap_niger/data/bbox/indices/prcptot_AFR-22_NCC-NorESM1-M_rcp26_r1i1p1_CLMcom-KIT-CCLM5-0-15_v1_day_20060101-21000101.nc',\n",
       " '/home/nils/nap_niger/data/bbox/indices/prcptot_AFR-22_MPI-M-MPI-ESM-MRMPI-M-MPI-ESM-MR_historical_r1i1p1_ICTP-RegCM4-7-0ICTP-RegCM4-7_v0_day_19700101-20050101.nc',\n",
       " '/home/nils/nap_niger/data/bbox/indices/prcptot_AFR-22_MPI-M-MPI-ESM-LR_historical_r1i1p1_CLMcom-KIT-CCLM5-0-15_v1_day_19500101-20050101.nc',\n",
       " '/home/nils/nap_niger/data/bbox/indices/prcptot_AFR-22_MPI-M-MPI-ESM-LR_rcp85_r1i1p1_GERICS-REMO2015_v1_day_20060101-21000101.nc',\n",
       " '/home/nils/nap_niger/data/bbox/indices/prcptot_AFR-22_MOHC-HadGEM2-ES_rcp85_r1i1p1_GERICS-REMO2015_v1_day_20060101-20990101.nc',\n",
       " '/home/nils/nap_niger/data/bbox/indices/prcptot_AFR-22_NCC-NorESM1-MNCC-NorESM1-M_rcp85_r1i1p1_ICTP-RegCM4-7-0ICTP-RegCM4-7_v0_day_20050101-20990101.nc',\n",
       " '/home/nils/nap_niger/data/bbox/indices/prcptot_AFR-22_MPI-M-MPI-ESM-MRMPI-M-MPI-ESM-MR_rcp85_r1i1p1_ICTP-RegCM4-7-0ICTP-RegCM4-7_v0_day_20050101-20730101.nc',\n",
       " '/home/nils/nap_niger/data/bbox/indices/prcptot_AFR-22_NCC-NorESM1-MNCC-NorESM1-M_historical_r1i1p1_ICTP-RegCM4-7-0ICTP-RegCM4-7_v0_day_19700101-20050101.nc',\n",
       " '/home/nils/nap_niger/data/bbox/indices/prcptot_AFR-22_MOHC-HadGEM2-ES_rcp85_r1i1p1_CLMcom-KIT-CCLM5-0-15_v1_day_20060101-20990101.nc',\n",
       " '/home/nils/nap_niger/data/bbox/indices/prcptot_AFR-22_NCC-NorESM1-M_rcp26_r1i1p1_GERICS-REMO2015_v1_day_20060101-21000101.nc',\n",
       " '/home/nils/nap_niger/data/bbox/indices/prcptot_AFR-22_MOHC-HadGEM2-ES_rcp26_r1i1p1_CLMcom-KIT-CCLM5-0-15_v1_day_20060101-20980101.nc',\n",
       " '/home/nils/nap_niger/data/bbox/indices/prcptot_AFR-22_MPI-M-MPI-ESM-LR_rcp85_r1i1p1_CLMcom-KIT-CCLM5-0-15_v1_day_20060101-21000101.nc',\n",
       " '/home/nils/nap_niger/data/bbox/indices/prcptot_AFR-22_NCC-NorESM1-M_historical_r1i1p1_GERICS-REMO2015_v1_day_19700101-20050101.nc']"
      ]
     },
     "execution_count": 12,
     "metadata": {},
     "output_type": "execute_result"
    }
   ],
   "source": [
    "# subset polygon for the country  # tas_indices_path\n",
    "indice_files = [path.join(pr_indices_path,f) for f in listdir(pr_indices_path)]\n",
    "indice_files"
   ]
  },
  {
   "cell_type": "code",
   "execution_count": 14,
   "metadata": {},
   "outputs": [
    {
     "name": "stdout",
     "output_type": "stream",
     "text": [
      " owslib.wps.WPSException : {'code': 'NoApplicableCode', 'locator': 'None', 'text': 'Process error: method=wps_subset_countries.py._handler, line=123, msg=Clipping failed: expected str, bytes or os.PathLike object, not NoneType'}\n",
      " owslib.wps.WPSException : {'code': 'NoApplicableCode', 'locator': 'None', 'text': 'Process error: method=wps_subset_countries.py._handler, line=123, msg=Clipping failed: expected str, bytes or os.PathLike object, not NoneType'}\n",
      " owslib.wps.WPSException : {'code': 'NoApplicableCode', 'locator': 'None', 'text': 'Process error: method=wps_subset_countries.py._handler, line=123, msg=Clipping failed: expected str, bytes or os.PathLike object, not NoneType'}\n",
      " owslib.wps.WPSException : {'code': 'NoApplicableCode', 'locator': 'None', 'text': 'Process error: method=wps_subset_countries.py._handler, line=123, msg=Clipping failed: expected str, bytes or os.PathLike object, not NoneType'}\n",
      " owslib.wps.WPSException : {'code': 'NoApplicableCode', 'locator': 'None', 'text': 'Process error: method=wps_subset_countries.py._handler, line=123, msg=Clipping failed: expected str, bytes or os.PathLike object, not NoneType'}\n",
      " owslib.wps.WPSException : {'code': 'NoApplicableCode', 'locator': 'None', 'text': 'Process error: method=wps_subset_countries.py._handler, line=123, msg=Clipping failed: expected str, bytes or os.PathLike object, not NoneType'}\n"
     ]
    }
   ],
   "source": [
    "for f in indice_files:\n",
    "    out = fp.subset_countries(resource=f, region='NER')\n",
    "#     while out.getStatus() != 'ProcessSucceeded':\n",
    "#         time.sleep(1) # wait until the widget is 'Complete'\n",
    "# url = out.get()[1]\n",
    "# fn = path.basename(url)\n",
    "# indice_file, _ = request.urlretrieve(url, path.join(tas_indices_path,fn))"
   ]
  },
  {
   "cell_type": "code",
   "execution_count": null,
   "metadata": {},
   "outputs": [],
   "source": [
    "# indice_files = []\n",
    "\n",
    "# for i, f  in enumerate(pr_files):\n",
    "# #     # some indices requires pairs. To find corrsponding file:\n",
    "# #     file2 = [t for t in tas_files if path.basename(f).strip('pr_') in t]\n",
    "# #     if len(file2) == 1:\n",
    "#     out = finch_i.max_n_day_precipitation_amount(pr=f, window=5, freq=freq[1]) #  tas=file2[0],\n",
    "#     # wait until finch processed the file:\n",
    "#     while out.getStatus() != 'ProcessSucceeded':\n",
    "#         time.sleep(1)\n",
    "#     filename = path.basename(f).replace('_day_', '_mon_').replace('pr_','max_5_day_precipitation_amount_')\n",
    "#     url = out.get()[0]\n",
    "#     indice_file, _ = request.urlretrieve(url, pr_indices_path+filename)\n",
    "#     indice_files.append(indice_file)\n",
    "#     print('Done for {}'.format(path.basename(indice_file)))\n",
    "# #     else:\n",
    "# #         print('no correspondent file for {} found'.format(path.basename(f)))\n",
    "        \n",
    "# print('**** Done *****')        \n"
   ]
  }
 ],
 "metadata": {
  "kernelspec": {
   "display_name": "Python 3",
   "language": "python",
   "name": "python3"
  },
  "language_info": {
   "codemirror_mode": {
    "name": "ipython",
    "version": 3
   },
   "file_extension": ".py",
   "mimetype": "text/x-python",
   "name": "python",
   "nbconvert_exporter": "python",
   "pygments_lexer": "ipython3",
   "version": "3.7.4"
  }
 },
 "nbformat": 4,
 "nbformat_minor": 2
}
